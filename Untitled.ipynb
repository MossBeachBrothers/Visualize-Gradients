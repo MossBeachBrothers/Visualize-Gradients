{
 "cells": [
  {
   "cell_type": "code",
   "execution_count": 12,
   "id": "ecd24b57-512b-443d-b70c-5f5a1fc7ec0d",
   "metadata": {},
   "outputs": [],
   "source": [
    "import torch\n",
    "import torch.nn.functional as F\n",
    "import matplotlib.pyplot as plt\n",
    "from tqdm import tqdm \n",
    "import random\n",
    "%matplotlib inline"
   ]
  },
  {
   "cell_type": "code",
   "execution_count": 13,
   "id": "84bee797-a0b4-4b3e-a067-63db2ff17ea8",
   "metadata": {},
   "outputs": [
    {
     "name": "stdout",
     "output_type": "stream",
     "text": [
      "['emma', 'olivia', 'ava', 'isabella', 'sophia', 'charlotte', 'mia', 'amelia', 'harper', 'evelyn']\n",
      "32033\n"
     ]
    }
   ],
   "source": [
    "#Define word dataset and put it into dictionary\n",
    "word_set = open('names.txt', 'r').read().splitlines()\n",
    "print(word_set[:10]) #print 10 words\n",
    "print(len(word_set))"
   ]
  },
  {
   "cell_type": "code",
   "execution_count": 14,
   "id": "672f5c04-bce4-4c1d-a8a9-d3858b4ac547",
   "metadata": {},
   "outputs": [],
   "source": [
    "#Build vocabulary dictionary (Integer/Character Mappings)\n",
    "chars = sorted(list(set(''.join(word_set))))\n",
    "S_to_I = {s: i+1 for i,s in enumerate(chars)} #give each char mapping of i + 1\n",
    "S_to_I['.'] = 0 #map end of sequence token\n",
    "I_to_S = {i: s for s,i in S_to_I.items()} #reverse S to I"
   ]
  },
  {
   "cell_type": "code",
   "execution_count": 20,
   "id": "cccc59d3-9ba2-4008-9730-ec61b668d79c",
   "metadata": {},
   "outputs": [
    {
     "name": "stderr",
     "output_type": "stream",
     "text": [
      "Building dataset: 100%|███████████████████████████████████████| 25626/25626 [00:00<00:00, 142589.10it/s]\n"
     ]
    },
    {
     "name": "stdout",
     "output_type": "stream",
     "text": [
      "Shapes X: torch.Size([182437, 3]), Y: torch.Size([182437])\n"
     ]
    },
    {
     "name": "stderr",
     "output_type": "stream",
     "text": [
      "Building dataset: 100%|█████████████████████████████████████████| 3203/3203 [00:00<00:00, 537417.22it/s]\n"
     ]
    },
    {
     "name": "stdout",
     "output_type": "stream",
     "text": [
      "Shapes X: torch.Size([22781, 3]), Y: torch.Size([22781])\n"
     ]
    },
    {
     "name": "stderr",
     "output_type": "stream",
     "text": [
      "Building dataset: 100%|█████████████████████████████████████████| 3204/3204 [00:00<00:00, 495138.35it/s]"
     ]
    },
    {
     "name": "stdout",
     "output_type": "stream",
     "text": [
      "Shapes X: torch.Size([22928, 3]), Y: torch.Size([22928])\n"
     ]
    },
    {
     "name": "stderr",
     "output_type": "stream",
     "text": [
      "\n"
     ]
    }
   ],
   "source": [
    "#Build dataset with Context : How many characters needed to predict the next character?\n",
    "block_size = 3\n",
    "\n",
    "def build_dataset(words):\n",
    "    X, Y = [],[]\n",
    "    for name in tqdm(words, desc = \"Building dataset\"):\n",
    "        context = [0] * block_size \n",
    "        #Loop through chars, add . to symbolize end token\n",
    "        for ch in name + '.':\n",
    "            index = S_to_I[ch]\n",
    "            X.append(context) #input context\n",
    "            Y.append(index) #output integer integer to next character\n",
    "            context = context[1:] + [index] #append context\n",
    "    X = torch.tensor(X, dtype=torch.long)\n",
    "    Y = torch.tensor(Y, dtype=torch.long)\n",
    "    print(f\"Shapes X: {X.shape}, Y: {Y.shape}\")\n",
    "    return X,Y\n",
    "\n",
    "\n",
    "#Split up data and build datasets for Training, Validation, and Testing\n",
    "random.seed(42)\n",
    "random.shuffle(word_set)\n",
    "idx1 = int(0.8 * len(word_set))\n",
    "idx2 = int(0.9 * len(word_set))\n",
    "\n",
    "train_x, train_y = build_dataset(word_set[:idx1]) #First 80 percent for Training\n",
    "dev_x, dev_y = build_dataset(word_set[idx1:idx2]) #\n",
    "test_x, test_y = build_dataset(word_set[idx2:]) #10 percent to test\n",
    "\n"
   ]
  },
  {
   "cell_type": "code",
   "execution_count": 18,
   "id": "0fa2154c-2f5e-4746-a26e-c060c5fafa22",
   "metadata": {},
   "outputs": [
    {
     "data": {
      "text/plain": [
       "tensor([[ 0,  0,  0],\n",
       "        [ 0,  0,  5],\n",
       "        [ 0,  5,  2],\n",
       "        [ 5,  2, 18],\n",
       "        [ 2, 18,  9],\n",
       "        [18,  9, 13],\n",
       "        [ 9, 13,  1]])"
      ]
     },
     "execution_count": 18,
     "metadata": {},
     "output_type": "execute_result"
    }
   ],
   "source": [
    "train_x"
   ]
  },
  {
   "cell_type": "code",
   "execution_count": 21,
   "id": "49ab116b-58fd-4a64-ae88-f0b61623fd91",
   "metadata": {},
   "outputs": [
    {
     "data": {
      "text/plain": [
       "tensor([20,  1, 21,  ..., 14,  1,  0])"
      ]
     },
     "execution_count": 21,
     "metadata": {},
     "output_type": "execute_result"
    }
   ],
   "source": [
    "train_y"
   ]
  },
  {
   "cell_type": "code",
   "execution_count": null,
   "id": "9d0d9476-8595-4c22-9293-aef4f1f3db6e",
   "metadata": {},
   "outputs": [],
   "source": []
  }
 ],
 "metadata": {
  "kernelspec": {
   "display_name": "Python 3 (ipykernel)",
   "language": "python",
   "name": "python3"
  },
  "language_info": {
   "codemirror_mode": {
    "name": "ipython",
    "version": 3
   },
   "file_extension": ".py",
   "mimetype": "text/x-python",
   "name": "python",
   "nbconvert_exporter": "python",
   "pygments_lexer": "ipython3",
   "version": "3.12.2"
  }
 },
 "nbformat": 4,
 "nbformat_minor": 5
}
