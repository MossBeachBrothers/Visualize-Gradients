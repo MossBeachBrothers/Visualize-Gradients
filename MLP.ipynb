{
 "cells": [
  {
   "cell_type": "code",
   "execution_count": 1,
   "id": "ecd24b57-512b-443d-b70c-5f5a1fc7ec0d",
   "metadata": {},
   "outputs": [],
   "source": [
    "import torch\n",
    "import torch.nn.functional as F\n",
    "import matplotlib.pyplot as plt\n",
    "from tqdm import tqdm \n",
    "import random\n",
    "%matplotlib inline"
   ]
  },
  {
   "cell_type": "code",
   "execution_count": 2,
   "id": "84bee797-a0b4-4b3e-a067-63db2ff17ea8",
   "metadata": {},
   "outputs": [
    {
     "name": "stdout",
     "output_type": "stream",
     "text": [
      "['emma', 'olivia', 'ava', 'isabella', 'sophia', 'charlotte', 'mia', 'amelia', 'harper', 'evelyn']\n",
      "32033\n"
     ]
    }
   ],
   "source": [
    "#Define word dataset and put it into dictionary\n",
    "word_set = open('names.txt', 'r').read().splitlines()\n",
    "print(word_set[:10]) #print 10 words\n",
    "print(len(word_set))"
   ]
  },
  {
   "cell_type": "code",
   "execution_count": 3,
   "id": "672f5c04-bce4-4c1d-a8a9-d3858b4ac547",
   "metadata": {},
   "outputs": [
    {
     "name": "stdout",
     "output_type": "stream",
     "text": [
      "27\n"
     ]
    }
   ],
   "source": [
    "#Build vocabulary dictionary (Integer/Character Mappings)\n",
    "chars = sorted(list(set(''.join(word_set))))\n",
    "S_to_I = {s: i+1 for i,s in enumerate(chars)} #give each char mapping of i + 1\n",
    "S_to_I['.'] = 0 #map end of sequence token\n",
    "I_to_S = {i: s for s,i in S_to_I.items()} #reverse S to I\n",
    "vocab_size = len(I_to_S)\n",
    "print(vocab_size)"
   ]
  },
  {
   "cell_type": "code",
   "execution_count": 4,
   "id": "cccc59d3-9ba2-4008-9730-ec61b668d79c",
   "metadata": {},
   "outputs": [
    {
     "name": "stderr",
     "output_type": "stream",
     "text": [
      "Building dataset: 100%|███████████████| 25626/25626 [00:00<00:00, 180961.92it/s]\n"
     ]
    },
    {
     "name": "stdout",
     "output_type": "stream",
     "text": [
      "Shapes X: torch.Size([182586, 3]), Y: torch.Size([182586])\n"
     ]
    },
    {
     "name": "stderr",
     "output_type": "stream",
     "text": [
      "Building dataset: 100%|█████████████████| 3203/3203 [00:00<00:00, 525847.65it/s]\n"
     ]
    },
    {
     "name": "stdout",
     "output_type": "stream",
     "text": [
      "Shapes X: torch.Size([22738, 3]), Y: torch.Size([22738])\n"
     ]
    },
    {
     "name": "stderr",
     "output_type": "stream",
     "text": [
      "Building dataset: 100%|█████████████████| 3204/3204 [00:00<00:00, 479845.39it/s]"
     ]
    },
    {
     "name": "stdout",
     "output_type": "stream",
     "text": [
      "Shapes X: torch.Size([22822, 3]), Y: torch.Size([22822])\n"
     ]
    },
    {
     "name": "stderr",
     "output_type": "stream",
     "text": [
      "\n"
     ]
    }
   ],
   "source": [
    "#Build dataset with Context : How many characters needed to predict the next character?\n",
    "block_size = 3\n",
    "\n",
    "def build_dataset(words):\n",
    "    X, Y = [],[]\n",
    "    for name in tqdm(words, desc = \"Building dataset\"):\n",
    "        context = [0] * block_size \n",
    "        #Loop through chars, add . to symbolize end token\n",
    "        for ch in name + '.':\n",
    "            index = S_to_I[ch]\n",
    "            X.append(context) #input context\n",
    "            Y.append(index) #output integer integer to next character\n",
    "            context = context[1:] + [index] #append context\n",
    "    X = torch.tensor(X, dtype=torch.long)\n",
    "    Y = torch.tensor(Y, dtype=torch.long)\n",
    "    print(f\"Shapes X: {X.shape}, Y: {Y.shape}\")\n",
    "    return X,Y\n",
    "\n",
    "\n",
    "#Split up data and build datasets for Training, Validation, and Testing\n",
    "random.seed(29)\n",
    "random.shuffle(word_set)\n",
    "idx1 = int(0.8 * len(word_set))\n",
    "idx2 = int(0.9 * len(word_set))\n",
    "\n",
    "train_x, train_y = build_dataset(word_set[:idx1]) #First 80 percent for Training\n",
    "dev_x, dev_y = build_dataset(word_set[idx1:idx2]) #\n",
    "test_x, test_y = build_dataset(word_set[idx2:]) #10 percent to test\n",
    "\n"
   ]
  },
  {
   "cell_type": "code",
   "execution_count": 5,
   "id": "0fa2154c-2f5e-4746-a26e-c060c5fafa22",
   "metadata": {},
   "outputs": [
    {
     "name": "stdout",
     "output_type": "stream",
     "text": [
      "Number of Parameters in model 12097\n"
     ]
    }
   ],
   "source": [
    "#MLP: Embedding Layer, Hidden Layer\n",
    "n_embd = 10 #embedding table vectors\n",
    "n_hidden = 200 #hidden layer nuerons\n",
    "g = torch.Generator().manual_seed(28482948204) \n",
    "\n",
    "\n",
    "#Parameters \n",
    "#Embedding Lookup Table C\n",
    "C = torch.randn((vocab_size, n_embd), generator=g) #each row is characters 10 dim vector\n",
    "W1 = torch.randn((n_embd * block_size, n_hidden), generator=g) * (5/3) / ((n_embd * block_size) ** 0.5) #concatenated embeddings into hidden\n",
    "W2 = torch.randn((n_hidden, vocab_size), generator=g) * 0.01 #hidden layer to output logits for each character\n",
    "b2 = torch.zeros(vocab_size)\n",
    "\n",
    "#Paramters for Batch Norm to normalize inputs\n",
    "bnorm_gain = torch.ones((1, n_hidden)) #learnable scale factor gamma\n",
    "bnorm_bias = torch.zeros((1, n_hidden)) #learned shift factor beta\n",
    "running_mean = torch.zeros((1, n_hidden)) #running mean\n",
    "running_std = torch.zeros((1, n_hidden)) #running standard deviation\n",
    "\n",
    "network_params = [C, W1, W2, b2, bnorm_gain, bnorm_bias]\n",
    "print(f\"Number of Parameters in model {sum(p.nelement() for p in network_params)}\")\n",
    "#ensure that gradients are calculated for back prop\n",
    "for param in network_params:\n",
    "    param.requires_grad = True\n",
    "\n"
   ]
  },
  {
   "cell_type": "code",
   "execution_count": 6,
   "id": "9aadd523-991b-4afb-9a84-45391ad51d19",
   "metadata": {},
   "outputs": [
    {
     "name": "stdout",
     "output_type": "stream",
     "text": [
      "tensor([0.0010, 0.0010, 0.0010, 0.0010, 0.0010, 0.0010, 0.0010, 0.0010, 0.0011,\n",
      "        0.0011, 0.0011, 0.0011, 0.0011, 0.0011, 0.0011, 0.0011, 0.0011, 0.0011,\n",
      "        0.0011, 0.0011])\n"
     ]
    }
   ],
   "source": [
    "lre = torch.linspace(-3,0,1000) #Learning Rate Exponent using 1000 points spaced between -3 and 0\n",
    "lrs = 10**lre #learning rates betwen 0.001 and 1 for Learning Rate Scheduling\n",
    "print(lrs[:20]) "
   ]
  },
  {
   "cell_type": "code",
   "execution_count": 7,
   "id": "5a646644-3c1f-4e9e-b989-25869744888a",
   "metadata": {},
   "outputs": [
    {
     "data": {
      "text/plain": [
       "Adam (\n",
       "Parameter Group 0\n",
       "    amsgrad: False\n",
       "    betas: (0.9, 0.999)\n",
       "    capturable: False\n",
       "    differentiable: False\n",
       "    eps: 1e-08\n",
       "    foreach: None\n",
       "    fused: None\n",
       "    lr: 0.001\n",
       "    maximize: False\n",
       "    weight_decay: 0\n",
       ")"
      ]
     },
     "execution_count": 7,
     "metadata": {},
     "output_type": "execute_result"
    }
   ],
   "source": [
    "#Training the Model \n",
    "max_epochs = 100_000\n",
    "batch_size = 32\n",
    "iteration_loss  = [] #store training losses\n",
    "validation_loss  = [] #store validation losses\n",
    "\n",
    "#Adam Optimizer\n",
    "optim = torch.optim.Adam(network_params, lr=0.001)\n",
    "optim"
   ]
  },
  {
   "cell_type": "markdown",
   "id": "e83cf442-6d1a-4ff6-8880-e69e25630df4",
   "metadata": {},
   "source": [
    "Training Loop"
   ]
  },
  {
   "cell_type": "code",
   "execution_count": 8,
   "id": "dba669bf-5e3c-4df4-b36e-136604a392ca",
   "metadata": {},
   "outputs": [
    {
     "name": "stderr",
     "output_type": "stream",
     "text": [
      "Training Model:   0%|                     | 132/100000 [00:00<02:15, 739.52it/s]"
     ]
    },
    {
     "name": "stdout",
     "output_type": "stream",
     "text": [
      "Step 0/100000: Training loss = 3.3228\n",
      "Step 0/100000: Validation loss = 3.2856\n"
     ]
    },
    {
     "name": "stderr",
     "output_type": "stream",
     "text": [
      "Training Model:   5%|▉                  | 5188/100000 [00:04<01:20, 1174.70it/s]"
     ]
    },
    {
     "name": "stdout",
     "output_type": "stream",
     "text": [
      "Step 5000/100000: Training loss = 2.3472\n",
      "Step 5000/100000: Validation loss = 2.2780\n"
     ]
    },
    {
     "name": "stderr",
     "output_type": "stream",
     "text": [
      "Training Model:  10%|█▊                | 10169/100000 [00:08<01:15, 1189.20it/s]"
     ]
    },
    {
     "name": "stdout",
     "output_type": "stream",
     "text": [
      "Step 10000/100000: Training loss = 2.1619\n",
      "Step 10000/100000: Validation loss = 2.2312\n"
     ]
    },
    {
     "name": "stderr",
     "output_type": "stream",
     "text": [
      "Training Model:  15%|██▋               | 15097/100000 [00:12<01:14, 1140.35it/s]"
     ]
    },
    {
     "name": "stdout",
     "output_type": "stream",
     "text": [
      "Step 15000/100000: Training loss = 2.0670\n",
      "Step 15000/100000: Validation loss = 2.2078\n"
     ]
    },
    {
     "name": "stderr",
     "output_type": "stream",
     "text": [
      "Training Model:  20%|███▋              | 20223/100000 [00:16<01:03, 1252.00it/s]"
     ]
    },
    {
     "name": "stdout",
     "output_type": "stream",
     "text": [
      "Step 20000/100000: Training loss = 2.1698\n",
      "Step 20000/100000: Validation loss = 2.1975\n"
     ]
    },
    {
     "name": "stderr",
     "output_type": "stream",
     "text": [
      "Training Model:  25%|████▌             | 25197/100000 [00:20<01:01, 1220.43it/s]"
     ]
    },
    {
     "name": "stdout",
     "output_type": "stream",
     "text": [
      "Step 25000/100000: Training loss = 2.1161\n",
      "Step 25000/100000: Validation loss = 2.1910\n"
     ]
    },
    {
     "name": "stderr",
     "output_type": "stream",
     "text": [
      "Training Model:  30%|█████▍            | 30130/100000 [00:25<00:57, 1215.72it/s]"
     ]
    },
    {
     "name": "stdout",
     "output_type": "stream",
     "text": [
      "Step 30000/100000: Training loss = 2.3927\n",
      "Step 30000/100000: Validation loss = 2.1902\n"
     ]
    },
    {
     "name": "stderr",
     "output_type": "stream",
     "text": [
      "Training Model:  35%|██████▎           | 35246/100000 [00:29<00:52, 1235.82it/s]"
     ]
    },
    {
     "name": "stdout",
     "output_type": "stream",
     "text": [
      "Step 35000/100000: Training loss = 2.1031\n",
      "Step 35000/100000: Validation loss = 2.1853\n"
     ]
    },
    {
     "name": "stderr",
     "output_type": "stream",
     "text": [
      "Training Model:  40%|███████▏          | 40125/100000 [00:33<00:49, 1221.84it/s]"
     ]
    },
    {
     "name": "stdout",
     "output_type": "stream",
     "text": [
      "Step 40000/100000: Training loss = 2.2614\n",
      "Step 40000/100000: Validation loss = 2.1850\n"
     ]
    },
    {
     "name": "stderr",
     "output_type": "stream",
     "text": [
      "Training Model:  45%|████████▏         | 45224/100000 [00:37<00:45, 1193.70it/s]"
     ]
    },
    {
     "name": "stdout",
     "output_type": "stream",
     "text": [
      "Step 45000/100000: Training loss = 2.2712\n",
      "Step 45000/100000: Validation loss = 2.1851\n"
     ]
    },
    {
     "name": "stderr",
     "output_type": "stream",
     "text": [
      "Training Model:  50%|█████████         | 50205/100000 [00:41<00:40, 1244.19it/s]"
     ]
    },
    {
     "name": "stdout",
     "output_type": "stream",
     "text": [
      "Step 50000/100000: Training loss = 2.1688\n",
      "Step 50000/100000: Validation loss = 2.1791\n"
     ]
    },
    {
     "name": "stderr",
     "output_type": "stream",
     "text": [
      "Training Model:  55%|█████████▉        | 55215/100000 [00:45<00:37, 1209.89it/s]"
     ]
    },
    {
     "name": "stdout",
     "output_type": "stream",
     "text": [
      "Step 55000/100000: Training loss = 2.4110\n",
      "Step 55000/100000: Validation loss = 2.1744\n"
     ]
    },
    {
     "name": "stderr",
     "output_type": "stream",
     "text": [
      "Training Model:  60%|██████████▊       | 60142/100000 [00:49<00:33, 1186.94it/s]"
     ]
    },
    {
     "name": "stdout",
     "output_type": "stream",
     "text": [
      "Step 60000/100000: Training loss = 2.1376\n",
      "Step 60000/100000: Validation loss = 2.1642\n"
     ]
    },
    {
     "name": "stderr",
     "output_type": "stream",
     "text": [
      "Training Model:  65%|███████████▋      | 65220/100000 [00:53<00:28, 1229.18it/s]"
     ]
    },
    {
     "name": "stdout",
     "output_type": "stream",
     "text": [
      "Step 65000/100000: Training loss = 2.1469\n",
      "Step 65000/100000: Validation loss = 2.1729\n"
     ]
    },
    {
     "name": "stderr",
     "output_type": "stream",
     "text": [
      "Training Model:  70%|████████████▌     | 70138/100000 [00:57<00:24, 1224.83it/s]"
     ]
    },
    {
     "name": "stdout",
     "output_type": "stream",
     "text": [
      "Step 70000/100000: Training loss = 2.0472\n",
      "Step 70000/100000: Validation loss = 2.1747\n"
     ]
    },
    {
     "name": "stderr",
     "output_type": "stream",
     "text": [
      "Training Model:  75%|█████████████▌    | 75152/100000 [01:01<00:20, 1232.11it/s]"
     ]
    },
    {
     "name": "stdout",
     "output_type": "stream",
     "text": [
      "Step 75000/100000: Training loss = 2.0673\n",
      "Step 75000/100000: Validation loss = 2.1669\n"
     ]
    },
    {
     "name": "stderr",
     "output_type": "stream",
     "text": [
      "Training Model:  80%|██████████████▍   | 80183/100000 [01:05<00:17, 1149.68it/s]"
     ]
    },
    {
     "name": "stdout",
     "output_type": "stream",
     "text": [
      "Step 80000/100000: Training loss = 2.0646\n",
      "Step 80000/100000: Validation loss = 2.1638\n"
     ]
    },
    {
     "name": "stderr",
     "output_type": "stream",
     "text": [
      "Training Model:  85%|███████████████▎  | 85182/100000 [01:09<00:12, 1210.98it/s]"
     ]
    },
    {
     "name": "stdout",
     "output_type": "stream",
     "text": [
      "Step 85000/100000: Training loss = 2.2338\n",
      "Step 85000/100000: Validation loss = 2.1664\n"
     ]
    },
    {
     "name": "stderr",
     "output_type": "stream",
     "text": [
      "Training Model:  90%|████████████████▏ | 90230/100000 [01:13<00:08, 1217.23it/s]"
     ]
    },
    {
     "name": "stdout",
     "output_type": "stream",
     "text": [
      "Step 90000/100000: Training loss = 2.2051\n",
      "Step 90000/100000: Validation loss = 2.1658\n"
     ]
    },
    {
     "name": "stderr",
     "output_type": "stream",
     "text": [
      "Training Model:  95%|█████████████████▏| 95187/100000 [01:17<00:04, 1173.22it/s]"
     ]
    },
    {
     "name": "stdout",
     "output_type": "stream",
     "text": [
      "Step 95000/100000: Training loss = 1.9663\n",
      "Step 95000/100000: Validation loss = 2.1702\n"
     ]
    },
    {
     "name": "stderr",
     "output_type": "stream",
     "text": [
      "Training Model: 100%|█████████████████| 100000/100000 [01:21<00:00, 1227.72it/s]\n"
     ]
    }
   ],
   "source": [
    "# Initialize running mean and std\n",
    "running_mean = torch.zeros((1, n_hidden))\n",
    "running_std = torch.ones((1, n_hidden))\n",
    "\n",
    "# Training loop with validation loss tracking\n",
    "for i in tqdm(range(max_epochs), desc=\"Training Model\"):\n",
    "    index = torch.randint(0, train_x.shape[0], (batch_size,), generator=g)  # Generate random indices to sample batch size samples\n",
    "    batch_x, batch_y = train_x[index], train_y[index]\n",
    "\n",
    "    # Forward\n",
    "    embedding = C[batch_x]  # Character into embedding vector\n",
    "    embedding_concat = embedding.view(embedding.shape[0], -1)  # Concatenate embeddings into single vector, -1 infers shape\n",
    "    hidden_pre_activation = embedding_concat @ W1  # Mat Mul Embedding, Weight Matrix 1\n",
    "\n",
    "    # Normalize hidden state using running statistics and batch norm\n",
    "    hidden_pre_activation = bnorm_gain * (hidden_pre_activation - running_mean) / (running_std + 1e-5) + bnorm_bias\n",
    "\n",
    "    # Update running statistics without gradients\n",
    "    with torch.no_grad():\n",
    "        running_mean = 0.999 * running_mean + 0.001 * hidden_pre_activation.mean(0, keepdim=True)\n",
    "        running_std = 0.999 * running_std + 0.001 * hidden_pre_activation.std(0, keepdim=True)\n",
    "\n",
    "    hidden = torch.tanh(hidden_pre_activation)\n",
    "    logits = hidden @ W2 + b2  # Hidden layer into logits, one bias for each char\n",
    "    loss = F.cross_entropy(logits, batch_y)  # Determine loss based on expected\n",
    "\n",
    "    # Backward\n",
    "    optim.zero_grad()  # Reset gradients to avoid accumulation\n",
    "    loss.backward()  # Backpropagation\n",
    "    optim.step()  # Update parameters based on gradient\n",
    "\n",
    "    # Every 5000 iterations, check validation loss\n",
    "    if i % 5000 == 0:\n",
    "        print(f'Step {i}/{max_epochs}: Training loss = {loss.item():.4f}')\n",
    "        with torch.no_grad():\n",
    "            val_emb = C[dev_x]\n",
    "            val_embcat = val_emb.view(val_emb.shape[0], -1)\n",
    "            val_hpreact = val_embcat @ W1\n",
    "            val_hpreact = bnorm_gain * (val_hpreact - running_mean) / (running_std + 1e-5) + bnorm_bias\n",
    "            val_h = torch.tanh(val_hpreact)\n",
    "            val_logits = val_h @ W2 + b2\n",
    "            val_loss_val = F.cross_entropy(val_logits, dev_y).item()\n",
    "            validation_loss.append(val_loss_val)\n",
    "            print(f'Step {i}/{max_epochs}: Validation loss = {val_loss_val:.4f}')\n",
    "    iteration_loss.append(loss.log10().item())  # Add log likelihood to training loss\n"
   ]
  },
  {
   "cell_type": "code",
   "execution_count": 9,
   "id": "047fefe1-69e5-418c-af44-487921bc700d",
   "metadata": {},
   "outputs": [
    {
     "data": {
      "image/png": "[encoded data removed]",
      "text/plain": [
       "<Figure size 640x480 with 1 Axes>"
      ]
     },
     "metadata": {},
     "output_type": "display_data"
    }
   ],
   "source": [
    "plt.plot(iteration_loss, label=\"Training Loss\")\n",
    "plt.plot(range(0, max_epochs, 5000), validation_loss, label=\"Validation Loss\", linestyle='--')\n",
    "plt.legend()\n",
    "plt.show()"
   ]
  },
  {
   "cell_type": "code",
   "execution_count": 10,
   "id": "10a0bc3c-358d-417a-a469-22e30d99f4fc",
   "metadata": {},
   "outputs": [
    {
     "data": {
      "image/png": "[encoded data removed]",
      "text/plain": [
       "<Figure size 1200x600 with 1 Axes>"
      ]
     },
     "metadata": {},
     "output_type": "display_data"
    }
   ],
   "source": [
    "#Visualize Activation Gradient\n",
    "hidden_activations = hidden.detach().cpu().numpy()\n",
    "\n",
    "plt.figure(figsize=(12, 6))\n",
    "plt.hist(hidden_activations.flatten(), bins=50, color='c', edgecolor='k', alpha=0.65)\n",
    "plt.title('Histogram of Tanh Activations')\n",
    "plt.xlabel('Activation Value')\n",
    "plt.ylabel('Frequency')\n",
    "plt.grid(True)\n",
    "plt.show()"
   ]
  },
  {
   "cell_type": "code",
   "execution_count": 11,
   "id": "0b16a0ab-9fd9-48dd-a0b8-0770a228becf",
   "metadata": {},
   "outputs": [
    {
     "name": "stdout",
     "output_type": "stream",
     "text": [
      "yanaryo.\n",
      "lakian.\n",
      "aileigh.\n",
      "sheel.\n",
      "damidharonia.\n",
      "lucie.\n",
      "natalei.\n",
      "darsha.\n",
      "dor.\n",
      "luen.\n",
      "soph.\n",
      "jamelias.\n",
      "nisha.\n",
      "del.\n",
      "zeniko.\n",
      "kael.\n",
      "grevandellorina.\n",
      "korii.\n",
      "aaren.\n",
      "hryn.\n"
     ]
    }
   ],
   "source": [
    "def sample_network(context, params, block_size = 3, num_samples=1):\n",
    "    C, W1, W2, b2, bnorm_gain, bnorm_bias = params\n",
    "    g = torch.Generator().manual_seed(28482948204 + 10)\n",
    "    samples = []\n",
    "    for _ in range(num_samples):\n",
    "        out = []\n",
    "        context_copy = context.copy()\n",
    "        while True:\n",
    "            #forward pass\n",
    "            embedding = C[torch.tensor([context_copy])]\n",
    "            hidden = torch.tanh(embedding.view(1,-1) @ W1)\n",
    "            logits = hidden @ W2 + b2\n",
    "            probs = F.softmax(logits, dim=1) #convert logits into probabilities 0 to 1\n",
    "            index = torch.multinomial(probs, num_samples=1,generator=g).item() #sample probabilities\n",
    "            context_copy = context_copy[1:] + [index]\n",
    "            out.append(index) #append output index \n",
    "            if index == 0:\n",
    "                #if we reach end token, end\n",
    "                break\n",
    "        samples.append(''.join(I_to_S[i] for i in out)) #add the character mappings for the integers to result\n",
    "    return samples\n",
    "    \n",
    "context = [0] * block_size\n",
    "samples = sample_network(context, network_params, block_size=block_size, num_samples=20)\n",
    "for sample in samples:\n",
    "    print(sample) #sample 20 names from distribution"
   ]
  },
  {
   "cell_type": "code",
   "execution_count": null,
   "id": "410af20d-b8e4-45b4-81fe-6b23ca19348c",
   "metadata": {},
   "outputs": [],
   "source": []
  }
 ],
 "metadata": {
  "kernelspec": {
   "display_name": "Python 3 (ipykernel)",
   "language": "python",
   "name": "python3"
  },
  "language_info": {
   "codemirror_mode": {
    "name": "ipython",
    "version": 3
   },
   "file_extension": ".py",
   "mimetype": "text/x-python",
   "name": "python",
   "nbconvert_exporter": "python",
   "pygments_lexer": "ipython3",
   "version": "3.12.2"
  }
 },
 "nbformat": 4,
 "nbformat_minor": 5
}
