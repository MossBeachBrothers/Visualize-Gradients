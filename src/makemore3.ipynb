{
 "cells": [
  {
   "cell_type": "code",
   "execution_count": 69,
   "id": "e91a73d1-1832-49d6-a3bb-a64b1eff2048",
   "metadata": {},
   "outputs": [],
   "source": [
    "import torch\n",
    "import torch.nn.functional as F\n",
    "import matplotlib.pyplot as plt\n",
    "%matplotlib inline"
   ]
  },
  {
   "cell_type": "code",
   "execution_count": 70,
   "id": "4c5090e8-963b-4dbf-8828-d07a121345a3",
   "metadata": {},
   "outputs": [
    {
     "data": {
      "text/plain": [
       "32033"
      ]
     },
     "execution_count": 70,
     "metadata": {},
     "output_type": "execute_result"
    }
   ],
   "source": [
    "#read in all the words in dict\n",
    "words = open('names.txt', 'r').read().splitlines()\n",
    "words[:8]\n",
    "len(words)"
   ]
  },
  {
   "cell_type": "code",
   "execution_count": 71,
   "id": "5e16a86b-be25-4dc8-9556-4a54c7d29756",
   "metadata": {},
   "outputs": [
    {
     "name": "stdout",
     "output_type": "stream",
     "text": [
      "{1: 'a', 2: 'b', 3: 'c', 4: 'd', 5: 'e', 6: 'f', 7: 'g', 8: 'h', 9: 'i', 10: 'j', 11: 'k', 12: 'l', 13: 'm', 14: 'n', 15: 'o', 16: 'p', 17: 'q', 18: 'r', 19: 's', 20: 't', 21: 'u', 22: 'v', 23: 'w', 24: 'x', 25: 'y', 26: 'z', 0: '.'}\n"
     ]
    }
   ],
   "source": [
    "#build character vocabulary and mappings from/to integers\n",
    "chars = sorted(list(set(''.join(words))))\n",
    "stoi = {s: i+1 for i,s in enumerate(chars)}\n",
    "stoi['.'] = 0\n",
    "itos = {i:s for s,i in stoi.items()}\n",
    "print(itos)\n",
    "vocab_size = len(itos)"
   ]
  },
  {
   "cell_type": "code",
   "execution_count": 72,
   "id": "c6acc9df-8d23-4bcd-8b70-629e37841984",
   "metadata": {},
   "outputs": [
    {
     "name": "stdout",
     "output_type": "stream",
     "text": [
      "torch.Size([182625, 3]) torch.Size([182625])\n",
      "torch.Size([22655, 3]) torch.Size([22655])\n",
      "torch.Size([22866, 3]) torch.Size([22866])\n"
     ]
    }
   ],
   "source": [
    "#build the dataset\n",
    "block_size = 3 # length of context: how many characters needed to predict the next one?\n",
    "def build_database(words):\n",
    "    X,Y = [],[]\n",
    "    for w in words:\n",
    "        #print(w)\n",
    "        context = [0] * block_size \n",
    "        for ch in w + '.':\n",
    "            ix = stoi[ch]\n",
    "            X.append(context)\n",
    "            Y.append(ix)\n",
    "            #print(''.join(itos[i] for i in context), '--->', itos[ix])\n",
    "            context = context[1:] + [ix] #crop and append\n",
    "    \n",
    "    X = torch.tensor(X)\n",
    "    Y = torch.tensor(Y)\n",
    "    print(X.shape, Y.shape)\n",
    "    return X,Y\n",
    "\n",
    "import random\n",
    "random.seed(42)\n",
    "random.shuffle(words)\n",
    "n1 = int(0.8*len(words)) #80 percent length mark\n",
    "n2 = int(0.9*len(words)) #90 percent length mark\n",
    "\n",
    "Xtr, Ytr = build_database(words[:n1]) #training set\n",
    "Xdev, Ydev = build_database(words[n1:n2]) #dev set\n",
    "Xte, Yte = build_database(words[n2:]) #testing set\n",
    "    "
   ]
  },
  {
   "cell_type": "code",
   "execution_count": 73,
   "id": "ee2d5112-3b8a-4904-9e96-343e9313f2fe",
   "metadata": {},
   "outputs": [
    {
     "name": "stdout",
     "output_type": "stream",
     "text": [
      "12097\n"
     ]
    }
   ],
   "source": [
    "# MLP revisited\n",
    "n_embd = 10 # the dimensionality of the character embedding vectors\n",
    "n_hidden = 200 # the number of neurons in the hidden layer of the MLP\n",
    "#For Kaiming Scaling, we need to multiply by gain and divide by fan_in\n",
    "g = torch.Generator().manual_seed(2147483647) # for reproducibility\n",
    "C  = torch.randn((vocab_size, n_embd),            generator=g)\n",
    "W1 = torch.randn((n_embd * block_size, n_hidden), generator=g) * (5/3)/((n_embd*block_size)**0.5)\n",
    "# b1 = torch.randn(n_hidden,                        generator=g) * 0.01\n",
    "W2 = torch.randn((n_hidden, vocab_size),          generator=g) * 0.01\n",
    "b2 = torch.randn(vocab_size,                      generator=g) * 0\n",
    "\n",
    "#Introduce gain and bias for scaling and shifting of normalized inputs\n",
    "bnorm_gain = torch.ones((1, n_hidden))\n",
    "bnorm_bias = torch.zeros((1, n_hidden))\n",
    "#we want mean to be close to zero and std to be close to one\n",
    "running_mean = torch.zeros((1,n_hidden))\n",
    "running_std = torch.ones((1, n_hidden))\n",
    "\n",
    "parameters = [C, W1, W2, b2, bnorm_gain, bnorm_bias]\n",
    "print(sum(p.nelement() for p in parameters)) # number of parameters in total\n",
    "for p in parameters:\n",
    "  p.requires_grad = True"
   ]
  },
  {
   "cell_type": "code",
   "execution_count": 74,
   "id": "a1c8f499-5c33-4461-90fe-a83f853583e4",
   "metadata": {},
   "outputs": [],
   "source": [
    "# h = torch.tanh(emb.view(-1,6) @ W1 + b1) #when inputting -1, pytorch will infer the dimmension"
   ]
  },
  {
   "cell_type": "code",
   "execution_count": 75,
   "id": "dae9e540-29a9-45c9-9635-b08a8654259c",
   "metadata": {},
   "outputs": [],
   "source": [
    "#concatenate embeddings for all inputs\n",
    "# torch.cat([emb[:,0,:], emb[:,1,:], emb[:,2,:]],1).shape"
   ]
  },
  {
   "cell_type": "code",
   "execution_count": 76,
   "id": "7e536b65-6064-411e-9073-af72c1f92611",
   "metadata": {},
   "outputs": [],
   "source": [
    "# h"
   ]
  },
  {
   "cell_type": "code",
   "execution_count": 77,
   "id": "7de600a6-ee3e-414e-b444-b09ae0702eed",
   "metadata": {},
   "outputs": [
    {
     "data": {
      "text/plain": [
       "tensor([0.0010, 0.0010, 0.0010, 0.0010, 0.0010, 0.0010, 0.0010, 0.0010, 0.0011,\n",
       "        0.0011, 0.0011, 0.0011, 0.0011, 0.0011, 0.0011, 0.0011, 0.0011, 0.0011,\n",
       "        0.0011, 0.0011, 0.0011, 0.0012, 0.0012, 0.0012, 0.0012, 0.0012, 0.0012,\n",
       "        0.0012, 0.0012, 0.0012, 0.0012, 0.0012, 0.0012, 0.0013, 0.0013, 0.0013,\n",
       "        0.0013, 0.0013, 0.0013, 0.0013, 0.0013, 0.0013, 0.0013, 0.0013, 0.0014,\n",
       "        0.0014, 0.0014, 0.0014, 0.0014, 0.0014])"
      ]
     },
     "execution_count": 77,
     "metadata": {},
     "output_type": "execute_result"
    }
   ],
   "source": [
    "learning_rate_exponent = torch.linspace(-3,0,1000)\n",
    "lrs = 10**learning_rate_exponent #create learning rates between -0.001 and -1\n",
    "lrs[:50] #exponentially stepped between these rates, rather than linearly"
   ]
  },
  {
   "cell_type": "code",
   "execution_count": 78,
   "id": "73240788-7a86-4cf4-8f40-252e4630525b",
   "metadata": {},
   "outputs": [],
   "source": [
    "max_steps = 200000\n",
    "batch_size = 32\n",
    "lossi = [] "
   ]
  },
  {
   "cell_type": "code",
   "execution_count": 79,
   "id": "faf35385-f71f-4762-b5fa-b391b66255b2",
   "metadata": {},
   "outputs": [
    {
     "name": "stdout",
     "output_type": "stream",
     "text": [
      "      0/ 200000: 3.2958\n",
      "  10000/ 200000: 2.1395\n",
      "  20000/ 200000: 2.5863\n",
      "  30000/ 200000: 2.0433\n",
      "  40000/ 200000: 2.3793\n",
      "  50000/ 200000: 1.9009\n",
      "  60000/ 200000: 2.1429\n",
      "  70000/ 200000: 2.2533\n",
      "  80000/ 200000: 2.5326\n",
      "  90000/ 200000: 2.2481\n",
      " 100000/ 200000: 2.3001\n",
      " 110000/ 200000: 2.4104\n",
      " 120000/ 200000: 1.8182\n",
      " 130000/ 200000: 2.0439\n",
      " 140000/ 200000: 2.2997\n",
      " 150000/ 200000: 2.0822\n",
      " 160000/ 200000: 2.0554\n",
      " 170000/ 200000: 2.5150\n",
      " 180000/ 200000: 2.2620\n",
      " 190000/ 200000: 2.1607\n"
     ]
    }
   ],
   "source": [
    "#optimization\n",
    "for i in range(max_steps):\n",
    "    #construct mini batches\n",
    "    ix = torch.randint(0, Xtr.shape[0], (batch_size,), generator=g)\n",
    "    Xb,Yb=Xtr[ix],Ytr[ix] #batch X,Y\n",
    "\n",
    "    #forward pass \n",
    "    emb = C[Xb] #character embeddings into vectors\n",
    "    embcat = emb.view(emb.shape[0], -1) #concatenate vectors, -1 infers shape\n",
    "    hpreact = embcat @ W1 #+ b1 #hidden layer before activation\n",
    "    #b1 will not learn in this case, as it is subtracted with the norm\n",
    "    #Normalize hpreact by subtracting mean, dividing by std\n",
    "    bnmeani = hpreact.mean(0, keepdim=True)\n",
    "    bnstdi = hpreact.std(0, keepdim=True)\n",
    "    hpreact = bnorm_gain * (hpreact - running_mean) / running_std * bnorm_bias #norm bias used to bias distribution\n",
    "    \n",
    "\n",
    "    #keep running batch mean and batch std deviation\n",
    "    with torch.no_grad():\n",
    "        #will remain almost the same, with small update in direction of batch mean/std\n",
    "        running_mean = 0.999 * running_mean + 0.001 * bnmeani\n",
    "        running_std = 0.999 * running_std + 0.001 * bnstdi\n",
    "    \n",
    "    h = torch.tanh(hpreact) #hidden layer\n",
    "    logits = h @ W2 + b2 #output layer\n",
    "    loss = F.cross_entropy(logits,Yb) #calculate loss\n",
    "\n",
    "    #backward pass\n",
    "    for p in parameters:\n",
    "        p.grad = None #reset gradient\n",
    "    loss.backward()\n",
    "\n",
    "    #update gradient based on lr\n",
    "    lr = 0.1 if i < 100000 else 0.01 #step learning rate decay\n",
    "    for p in parameters:\n",
    "        p.data+= -lr * p.grad\n",
    "\n",
    "    #track statistics\n",
    "    if i % 10000 == 0: #print every 1000\n",
    "        print(f'{i:7d}/{max_steps:7d}: {loss.item():.4f}')\n",
    "    lossi.append(loss.log10().item())"
   ]
  },
  {
   "cell_type": "code",
   "execution_count": 80,
   "id": "e84cf7de-84c8-41b4-9c81-af34ca8bcd4a",
   "metadata": {},
   "outputs": [
    {
     "data": {
      "text/plain": [
       "torch.Size([1, 200])"
      ]
     },
     "execution_count": 80,
     "metadata": {},
     "output_type": "execute_result"
    }
   ],
   "source": [
    "hpreact.mean(0, keepdim=True).shape"
   ]
  },
  {
   "cell_type": "code",
   "execution_count": 81,
   "id": "63cf55c8-83df-4cbd-838c-37729f6358fa",
   "metadata": {},
   "outputs": [
    {
     "data": {
      "text/plain": [
       "tensor([[ 7.1686e+00, -1.4600e+00,  3.1136e+01, -1.1940e+01,  2.6023e-01,\n",
       "          3.0143e+00,  7.0722e+01, -8.1373e+00,  1.1141e+01,  7.5658e+00,\n",
       "         -6.5950e+00, -1.4789e+02, -3.2389e+00,  4.5475e-01, -1.5136e+00,\n",
       "          6.2629e+00,  7.1781e-01, -8.5139e+01, -5.1849e+00,  5.1607e+01,\n",
       "          4.5455e+00, -6.4298e+00, -8.4137e-01, -3.0054e+01,  6.4144e+01,\n",
       "          8.4936e+01,  5.2586e+00, -3.8224e+00, -1.0236e+02,  9.7375e-01,\n",
       "         -2.4581e+00, -3.8350e+00, -3.6212e+00,  9.5164e-01,  1.1177e+00,\n",
       "          5.1588e+00,  9.2274e+01, -3.2164e+00, -3.2752e+01, -1.5547e+00,\n",
       "         -1.9083e+01, -5.0761e+00, -6.5362e+00,  3.7543e+00,  2.7059e+00,\n",
       "          9.3789e-01,  3.5585e+00,  1.1697e+02,  5.5725e+00,  3.2216e+00,\n",
       "          2.1214e+00, -2.6519e-01, -9.0203e-01,  5.4443e+00, -3.5735e+00,\n",
       "         -4.9190e+00,  6.0084e-02,  4.7191e+00,  2.5355e+00,  4.3475e+01,\n",
       "         -9.9851e+01,  1.4383e+01, -2.9488e-01,  3.2404e-01, -4.7664e+00,\n",
       "          1.3180e+02,  7.0342e+00,  2.2865e+00, -2.4818e+00, -1.1046e+00,\n",
       "         -2.9996e+00,  3.9574e+00,  1.8283e+00, -6.7705e+00, -6.1424e+01,\n",
       "         -2.1616e+00,  6.3667e+00,  1.2157e+00,  4.1643e+00,  6.4116e+00,\n",
       "          6.2540e+00,  7.7142e+00,  6.7229e+00, -3.8035e+00, -7.0387e+01,\n",
       "         -9.6517e+00, -9.2876e+00,  5.1784e+01,  1.6642e+00,  5.9945e-02,\n",
       "         -2.6662e+00,  4.7030e+00,  4.9570e+01, -4.5586e+00, -6.8345e+00,\n",
       "          1.2482e+00,  2.0966e+02,  3.5171e+00,  4.1032e+01, -9.1844e+00,\n",
       "          2.3655e+00,  9.8826e+01, -4.9443e+00,  4.1611e+01,  2.3094e+00,\n",
       "          1.0757e+00, -7.4453e+00,  2.5177e+01,  1.5129e+01, -5.7653e+00,\n",
       "          2.0640e+01, -6.4367e+01, -2.8859e-01, -7.4821e+01,  1.0293e+01,\n",
       "          4.9365e+00,  5.5979e+00,  9.5980e-01, -4.0377e+00,  3.5098e+00,\n",
       "         -3.9764e+00, -4.9280e+00,  4.3870e+00,  7.6045e+00, -4.3565e+00,\n",
       "          2.1795e+00, -1.8587e+00, -3.3099e+00, -4.5279e+00, -1.4606e+02,\n",
       "         -2.5261e+01, -1.0120e+02,  6.4396e+00,  4.4475e+01,  4.7066e+00,\n",
       "          1.5061e+00, -1.5764e+00,  5.8512e+00,  2.5289e+00,  1.1686e+00,\n",
       "          4.3866e+00, -1.0831e+00, -5.0414e+00, -2.9780e-02,  1.9215e+01,\n",
       "          1.3079e+01,  9.5216e+00,  3.4952e+00, -2.4162e+00, -3.2647e+00,\n",
       "         -1.2176e+02,  4.7666e+00, -2.4006e+00,  1.2362e+01,  3.4837e+00,\n",
       "         -7.4914e-01,  8.8063e+01, -5.4970e+00, -7.5035e+00,  9.4972e+00,\n",
       "          6.5313e+01, -1.3411e+02,  3.0742e+00, -1.5245e+00,  4.6661e-01,\n",
       "         -2.2708e+00,  5.0247e+00,  4.1832e+00, -1.4676e+00, -3.3753e+00,\n",
       "         -2.0980e+00, -6.6802e+00,  9.7790e-01, -8.1650e-01, -6.9266e+01,\n",
       "         -1.0543e+01, -7.9382e+01, -1.0819e+02,  2.7785e+02,  3.6258e+00,\n",
       "          7.5169e+00,  8.6287e+00, -8.9013e+01, -5.2199e+00, -2.5671e+00,\n",
       "         -4.6389e+00,  2.2731e+00,  2.1907e+00,  5.7403e+00,  8.7246e+01,\n",
       "         -2.9354e+00,  7.1839e+00, -3.0559e+00, -3.3533e-02,  5.8967e-01,\n",
       "          4.3360e+00,  2.2708e+01, -9.4151e+01, -4.6473e+01,  1.8578e-01]])"
      ]
     },
     "execution_count": 81,
     "metadata": {},
     "output_type": "execute_result"
    }
   ],
   "source": [
    "bnmean"
   ]
  },
  {
   "cell_type": "code",
   "execution_count": 82,
   "id": "ac255c97-8f19-4d26-9414-f50bcab9fabe",
   "metadata": {},
   "outputs": [
    {
     "data": {
      "text/plain": [
       "[<matplotlib.lines.Line2D at 0x1403748b0>]"
      ]
     },
     "execution_count": 82,
     "metadata": {},
     "output_type": "execute_result"
    },
    {
     "data": {
      "image/png": "[encoded data removed]",
      "text/plain": [
       "<Figure size 640x480 with 1 Axes>"
      ]
     },
     "metadata": {},
     "output_type": "display_data"
    }
   ],
   "source": [
    "plt.plot(lossi)"
   ]
  },
  {
   "cell_type": "raw",
   "id": "bf72ab4b-c22d-4d46-b473-e3764ee95683",
   "metadata": {},
   "source": []
  },
  {
   "cell_type": "code",
   "execution_count": 83,
   "id": "029e9923-f558-4fb4-9bb8-148d55357146",
   "metadata": {},
   "outputs": [
    {
     "data": {
      "text/plain": [
       "<matplotlib.image.AxesImage at 0x14ff9fbe0>"
      ]
     },
     "execution_count": 83,
     "metadata": {},
     "output_type": "execute_result"
    },
    {
     "data": {
      "image/png": "[encoded data removed]",
      "text/plain": [
       "<Figure size 2000x1000 with 1 Axes>"
      ]
     },
     "metadata": {},
     "output_type": "display_data"
    }
   ],
   "source": [
    "plt.figure(figsize=(20,10)) #visualize the activation of the tanh\n",
    "plt.imshow(h.abs() > 0.99, cmap='gray',interpolation='nearest')\n",
    "#if plot was all white, this would represent a dead nueron"
   ]
  },
  {
   "cell_type": "code",
   "execution_count": 84,
   "id": "cdc95ba0-55dd-4b0a-9fb7-789ca154850f",
   "metadata": {},
   "outputs": [],
   "source": [
    "#calibrate batch norm at the end of training\n",
    "with torch.no_grad():\n",
    "    #pass entire set through\n",
    "    emb = C[Xtr]\n",
    "    embcat = emb.view(emb.shape[0], -1)\n",
    "    hpreact = embcat @ W1 + b1\n",
    "    #measure mean/std over entire set\n",
    "    bnmean = hpreact.mean(0, keepdim=True)\n",
    "    bnstd = hpreact.std(0, keepdim=True)"
   ]
  },
  {
   "cell_type": "code",
   "execution_count": 85,
   "id": "df3a70dc-252d-4c8c-bfbb-6baee8ea91bb",
   "metadata": {},
   "outputs": [
    {
     "name": "stdout",
     "output_type": "stream",
     "text": [
      "train 2.1865181922912598\n",
      "val 2.198650360107422\n"
     ]
    }
   ],
   "source": [
    "@torch.no_grad() #disables gradient tracking for speed\n",
    "def split_loss(split):\n",
    "    x,y = {\n",
    "        'train': [Xtr,Ytr],\n",
    "        'val': [Xdev,Ydev],\n",
    "        'test': [Xte,Yte],\n",
    "    }[split]\n",
    "    emb = C[x]\n",
    "    embcat = emb.view(emb.shape[0],-1)\n",
    "    hpreact = embcat @ W1 + b1\n",
    "    # hpreact = bnorm_gain * (hpreact - hpreact.mean(0, keepdim=True)) / hpreact.std(0, keepdim=True) * bnorm_bias\n",
    "    hpreact = bnorm_gain * (hpreact - bnmean) / bnstd * bnorm_bias\n",
    "    h = torch.tanh(hpreact)\n",
    "    logits = h @ W2 + b2\n",
    "    loss = F.cross_entropy(logits,y)\n",
    "    print(split, loss.item())\n",
    "\n",
    "split_loss('train')\n",
    "split_loss('val')"
   ]
  },
  {
   "cell_type": "code",
   "execution_count": 86,
   "id": "d8936554-b72f-4732-b18a-2703f4c654e6",
   "metadata": {},
   "outputs": [
    {
     "name": "stdout",
     "output_type": "stream",
     "text": [
      "choeahoqaothosahcennsacehocanscacskosanhnenaehnsahc.\n",
      "hoqeecoeaonoacceachosaxnhonsehnnoooceceexnnasoocoeaceanoscocoecocaeahoxexckxecconsaccescecocacetneehnsaccohoaceonacccsyaxonaaosoosoncocenoocaceaeoeeensaonnuoceoececconaaouoneeaookehonoaae.\n",
      "xonoeooceesneaon.\n",
      "toeeneotonansoscoeanncossaocokocenaaconanahokcesneskanseosaececcnnoaaoccooocoaootoonaonooococacsoccense.\n",
      "nu.\n",
      "eoaoonnoeaosceaxotooscaxhoetecaconseccenoohnoccnsooscacocohoeocaeeseocensaccnnoaoohtecieensoonoaosoonteesceseenans.\n",
      "nuncnvuhonoaaosaosaokcennttoscesonaoooacehotceneecocaaecocecoceheocacese.\n",
      "honcocacnkacosoooaooheasooccnececknansonanshoaesoonneeexneooooeaecceacajnteceeocaanehoeonxocteonocoxoeooocetcesactcnneexnoacocensuesneaesaotkosnoncac.\n",
      "honceaoneasonhex.\n",
      "nanouosoexexcenooococaesonoeoncoshnhoxooxoxonsesaotehctanstoaatxtcnsaocacoknnoaosnooaoocanatoneaxosaocesceanahotaseonnoeceasee.\n",
      "soecoeseoeccosocxonaosoacehooonoeosoncxaee.\n",
      "aeucoconqsseanahanotceasaeccokooeehnoscetoceocenhesooococogaehhosceancoosoon.\n",
      "hokxekoccnnoaocconeasnhscxnsaacokonaano.\n",
      "uhoaoeocacxoneacotienneacahononseeenooacehoennhsannhesnoacesaootatcoceasogceahsetcesntcaxahhnsoooeacotaneuoosonceaccsneaeoonoooeaxohetcaeacoc.\n",
      "hocanneeaeohnexnonsooe.\n",
      "esaesshecuekonenaoconnoaceehhesoncocosacceacehn.\n",
      "hoenencxxaongooennocoxaoeosoosnesaohheacoeaoonoaceennaaonnatoncokntcnnsaccconnaacosocansecooaotcninkonsosxnsoccesoocosennoaceahonnans.\n",
      "oneckoseacosennsaccuacexaosnonoacecconsasocceneehoensnhnxccansucecoconeoaotonccensacaccseocekonaeekonaotennouaonoaceascexasococeoncacconaaohxe.\n",
      "saohonxeceasoooocoee.\n",
      "essosaonoekocnuosxxs.\n"
     ]
    }
   ],
   "source": [
    "# sample from the model\n",
    "g = torch.Generator().manual_seed(2147483647 + 10)\n",
    "\n",
    "for _ in range(20):\n",
    "    out = []\n",
    "    context = [0] * block_size\n",
    "    while True:\n",
    "        #forward pass nueral net\n",
    "        emb = C[torch.tensor([context])]\n",
    "        h = torch.tanh(emb.view(1,-1) @ W1 + b1)\n",
    "        logits = h @ W2 + b2\n",
    "        probs = F.softmax(logits, dim=1)\n",
    "        #sample from probability distribution\n",
    "        ix = torch.multinomial(probs, num_samples=1, generator=g).item()\n",
    "        #shift context window and track samples\n",
    "        context = context[1:] + [ix]\n",
    "        out.append(ix)\n",
    "        #if we get the end token, meaning end of word, break\n",
    "        if ix==0:\n",
    "            break\n",
    "    print(''.join(itos[i] for i in out))"
   ]
  },
  {
   "cell_type": "code",
   "execution_count": 111,
   "id": "a33c6bc1-4c5f-426e-9f62-52316d949abb",
   "metadata": {},
   "outputs": [
    {
     "name": "stdout",
     "output_type": "stream",
     "text": [
      "46497\n"
     ]
    }
   ],
   "source": [
    "# Deeper Network\n",
    "#linear module\n",
    "class Linear:\n",
    "    #input features, output features, bias\n",
    "    def __init__(self, fan_in, fan_out, bias=True):\n",
    "        self.weight = torch.rand((fan_in, fan_out), generator=g) / fan_in**0.5 #kaiming scaling\n",
    "        self.bias = torch.zeros(fan_out) if bias else None\n",
    "    #calculate Wx + b \n",
    "    def __call__(self,x):\n",
    "        self.out = x @ self.weight\n",
    "        if self.bias is not None:\n",
    "            self.out += self.bias\n",
    "        return self.out\n",
    "    #return tensor params of layer\n",
    "    def parameters(self):\n",
    "        return [self.weight] + ([] if self.bias is None else [self.bias])\n",
    "\n",
    "# batch norm module\n",
    "class BatchNorm1d:\n",
    "    \n",
    "    #dimmensionality, epsilon, and momentum for running mean/variance\n",
    "    def __init__(self, dim, eps=1e-5, momentum=0.1):\n",
    "        self.eps = eps #epsilon to prevent division by zero during normalization\n",
    "        self.momentum = momentum #control updates of mean/variance\n",
    "        self.training = True \n",
    "\n",
    "        #parameters (learned with backprop)\n",
    "        self.gamma = torch.zeros(dim)\n",
    "        self.beta = torch.ones(dim)\n",
    "\n",
    "        #buffers (learning with momentum update)\n",
    "        #training using exponential average explicity, not part of DAG\n",
    "        self.running_mean = torch.zeros(dim)\n",
    "        self.running_var = torch.ones(dim)\n",
    "\n",
    "    def __call__(self,x):\n",
    "        #forward pass\n",
    "        if self.training:\n",
    "            xmean = x.mean(0, keepdim=True) #batch mean\n",
    "            xvar = x.var(0, keepdim=True,unbiased=True) #batch variance\n",
    "        else:\n",
    "            xmean = self.running_mean\n",
    "            xvar = self.running_var\n",
    "        xhat = (x-xmean)/ torch.sqrt(xvar+self.eps) #normalize to unit variance\n",
    "        #create out for easy viewing of statistics\n",
    "        self.out = self.gamma * xhat + self.beta \n",
    "        #update buffers if training\n",
    "        if self.training:\n",
    "            with torch.no_grad(): #no gradient for buffers\n",
    "                self.running_mean = (1-self.momentum) * self.running_mean + self.momentum * xmean\n",
    "                self.running_var = (1-self.momentum) * self.running_var + self.momentum * xvar\n",
    "        return self.out\n",
    "\n",
    "    def parameters(self):\n",
    "        return [self.gamma, self.beta] #dont return mean and variance\n",
    "\n",
    "#Non-linearity - Tanh Module\n",
    "class Tanh:\n",
    "    def __call__(self,x):\n",
    "        self.out = torch.tanh(x)\n",
    "        return self.out\n",
    "    def parameters(self):\n",
    "        return []\n",
    "\n",
    "n_embd = 10 #dimmensions of the embedding vectors that are mapped from characters\n",
    "n_hidden = 100 #number of nuerons in hidden layer \n",
    "g = torch.Generator().manual_seed(214783647)\n",
    "\n",
    "#embedding matrix\n",
    "C = torch.randn((vocab_size, n_embd),            generator=g) \n",
    "#layers\n",
    "layers = [\n",
    "  Linear(n_embd * block_size, n_hidden), Tanh(),\n",
    "  Linear(           n_hidden, n_hidden), Tanh(),\n",
    "  Linear(           n_hidden, n_hidden), Tanh(),\n",
    "  Linear(           n_hidden, n_hidden), Tanh(),\n",
    "  Linear(           n_hidden, n_hidden), Tanh(),\n",
    "  Linear(           n_hidden, vocab_size),\n",
    "]\n",
    "\n",
    "with torch.no_grad():\n",
    "  # last layer: make less confident\n",
    "  # layers[-1].gamma *= 0.1\n",
    "  layers[-1].weight *= 0.1\n",
    "  # all other layers: apply gain\n",
    "  for layer in layers[:-1]:\n",
    "    if isinstance(layer, Linear):\n",
    "      layer.weight *= 5/3\n",
    "\n",
    "parameters = [C] + [p for layer in layers for p in layer.parameters()]\n",
    "print(sum(p.nelement() for p in parameters)) # number of parameters in total\n",
    "for p in parameters:\n",
    "  p.requires_grad = True\n",
    "\n",
    "            "
   ]
  },
  {
   "cell_type": "code",
   "execution_count": 112,
   "id": "637244ba-0936-4fb3-be42-17898f4f503f",
   "metadata": {},
   "outputs": [
    {
     "name": "stdout",
     "output_type": "stream",
     "text": [
      "      0/ 200000: 3.2872\n"
     ]
    }
   ],
   "source": [
    "#same optimization\n",
    "max_steps = 200000\n",
    "batch_size = 32\n",
    "lossi = []\n",
    "\n",
    "for i in range(max_steps):\n",
    "    #construct batches of batch_size\n",
    "    ix = torch.randint(0,Xtr.shape[0], (batch_size,), generator=g)\n",
    "    Xb,Yb = Xtr[ix], Ytr[ix] #X,Y batches\n",
    "\n",
    "    #forward pass\n",
    "    emb = C[Xb] #create vector embeddings\n",
    "    x = emb.view(emb.shape[0], -1) #concatenate all embedding vectors\n",
    "    for layer in layers:\n",
    "        #peform Wx + b for each layer\n",
    "        x = layer(x)\n",
    "    loss = F.cross_entropy(x,Yb) #loss function, Yb expected outputs\n",
    "\n",
    "    #backward pass\n",
    "    for layer in layers:\n",
    "        layer.out.retain_grad() #retain gradient of outputs\n",
    "    for p in parameters:\n",
    "        p.grad = None\n",
    "    loss.backward()\n",
    "    \n",
    "    #update\n",
    "    learning_rate = 0.1 if i < 100000 else 0.01 #learning rate decay\n",
    "    for p in parameters:\n",
    "        p.data += -learning_rate * p.grad\n",
    "\n",
    "    #track statistics\n",
    "    if i % 10000 == 0: # print every once in a while\n",
    "        print(f'{i:7d}/{max_steps:7d}: {loss.item():.4f}')\n",
    "        lossi.append(loss.log10().item())\n",
    "    break\n",
    "   "
   ]
  },
  {
   "cell_type": "code",
   "execution_count": 113,
   "id": "34c2a8d5-628f-4e2e-8826-d8160e1b2fbf",
   "metadata": {},
   "outputs": [
    {
     "name": "stdout",
     "output_type": "stream",
     "text": [
      "layer 1 (      Tanh): mean +0.65, std 0.34, saturated: 12.47%\n",
      "layer 3 (      Tanh): mean +0.96, std 0.21, saturated: 91.31%\n",
      "layer 5 (      Tanh): mean +0.94, std 0.34, saturated: 97.06%\n",
      "layer 7 (      Tanh): mean +0.94, std 0.35, saturated: 100.00%\n",
      "layer 9 (      Tanh): mean +0.94, std 0.35, saturated: 100.00%\n"
     ]
    },
    {
     "data": {
      "text/plain": [
       "Text(0.5, 1.0, 'activation layer distribution')"
      ]
     },
     "execution_count": 113,
     "metadata": {},
     "output_type": "execute_result"
    },
    {
     "data": {
      "image/png": "[encoded data removed]",
      "text/plain": [
       "<Figure size 2000x400 with 1 Axes>"
      ]
     },
     "metadata": {},
     "output_type": "display_data"
    }
   ],
   "source": [
    "#Visualize Activations of Tanh layers with Histograms\n",
    "plt.figure(figsize = (20,4)) #width/height of plot\n",
    "legends = []\n",
    "for i, layer in enumerate(layers[:-1]): #every layer except the last one\n",
    "    if isinstance(layer,Tanh):\n",
    "        t = layer.out\n",
    "        print('layer %d (%10s): mean %+.2f, std %.2f, saturated: %.2f%%' % (i, layer.__class__.__name__, t.mean(), t.std(), (t.abs() > 0.97).float().mean()*100))\n",
    "        hy, hx = torch.histogram(t, density=True)\n",
    "        plt.plot(hx[:-1].detach(), hy.detach())\n",
    "        legends.append(f'layer {i} ({layer.__class__.__name__}')\n",
    "plt.legend(legends);\n",
    "plt.title('activation layer distribution')"
   ]
  },
  {
   "cell_type": "code",
   "execution_count": null,
   "id": "cc86676c-b03e-4657-99c0-d584bc7ab74e",
   "metadata": {},
   "outputs": [],
   "source": [
    "#1:28"
   ]
  }
 ],
 "metadata": {
  "kernelspec": {
   "display_name": "Python 3 (ipykernel)",
   "language": "python",
   "name": "python3"
  },
  "language_info": {
   "codemirror_mode": {
    "name": "ipython",
    "version": 3
   },
   "file_extension": ".py",
   "mimetype": "text/x-python",
   "name": "python",
   "nbconvert_exporter": "python",
   "pygments_lexer": "ipython3",
   "version": "3.9.6"
  }
 },
 "nbformat": 4,
 "nbformat_minor": 5
}
