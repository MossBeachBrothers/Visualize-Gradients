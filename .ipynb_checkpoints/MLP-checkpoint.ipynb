{
 "cells": [
  {
   "cell_type": "code",
   "execution_count": 12,
   "id": "ecd24b57-512b-443d-b70c-5f5a1fc7ec0d",
   "metadata": {},
   "outputs": [],
   "source": [
    "import torch\n",
    "import torch.nn.functional as F\n",
    "import matplotlib.pyplot as plt\n",
    "from tqdm import tqdm \n",
    "import random\n",
    "%matplotlib inline"
   ]
  },
  {
   "cell_type": "code",
   "execution_count": 13,
   "id": "84bee797-a0b4-4b3e-a067-63db2ff17ea8",
   "metadata": {},
   "outputs": [
    {
     "name": "stdout",
     "output_type": "stream",
     "text": [
      "['emma', 'olivia', 'ava', 'isabella', 'sophia', 'charlotte', 'mia', 'amelia', 'harper', 'evelyn']\n",
      "32033\n"
     ]
    }
   ],
   "source": [
    "#Define word dataset and put it into dictionary\n",
    "word_set = open('names.txt', 'r').read().splitlines()\n",
    "print(word_set[:10]) #print 10 words\n",
    "print(len(word_set))"
   ]
  },
  {
   "cell_type": "code",
   "execution_count": 25,
   "id": "672f5c04-bce4-4c1d-a8a9-d3858b4ac547",
   "metadata": {},
   "outputs": [
    {
     "name": "stdout",
     "output_type": "stream",
     "text": [
      "27\n"
     ]
    }
   ],
   "source": [
    "#Build vocabulary dictionary (Integer/Character Mappings)\n",
    "chars = sorted(list(set(''.join(word_set))))\n",
    "S_to_I = {s: i+1 for i,s in enumerate(chars)} #give each char mapping of i + 1\n",
    "S_to_I['.'] = 0 #map end of sequence token\n",
    "I_to_S = {i: s for s,i in S_to_I.items()} #reverse S to I\n",
    "vocab_size = len(I_to_S)\n",
    "print(vocab_size)"
   ]
  },
  {
   "cell_type": "code",
   "execution_count": 26,
   "id": "cccc59d3-9ba2-4008-9730-ec61b668d79c",
   "metadata": {},
   "outputs": [
    {
     "name": "stderr",
     "output_type": "stream",
     "text": [
      "Building dataset: 100%|███████████████████████████████████████| 25626/25626 [00:00<00:00, 157468.90it/s]\n"
     ]
    },
    {
     "name": "stdout",
     "output_type": "stream",
     "text": [
      "Shapes X: torch.Size([182496, 3]), Y: torch.Size([182496])\n"
     ]
    },
    {
     "name": "stderr",
     "output_type": "stream",
     "text": [
      "Building dataset: 100%|█████████████████████████████████████████| 3203/3203 [00:00<00:00, 551085.23it/s]\n"
     ]
    },
    {
     "name": "stdout",
     "output_type": "stream",
     "text": [
      "Shapes X: torch.Size([22913, 3]), Y: torch.Size([22913])\n"
     ]
    },
    {
     "name": "stderr",
     "output_type": "stream",
     "text": [
      "Building dataset: 100%|█████████████████████████████████████████| 3204/3204 [00:00<00:00, 505512.72it/s]"
     ]
    },
    {
     "name": "stdout",
     "output_type": "stream",
     "text": [
      "Shapes X: torch.Size([22737, 3]), Y: torch.Size([22737])\n"
     ]
    },
    {
     "name": "stderr",
     "output_type": "stream",
     "text": [
      "\n"
     ]
    }
   ],
   "source": [
    "#Build dataset with Context : How many characters needed to predict the next character?\n",
    "block_size = 3\n",
    "\n",
    "def build_dataset(words):\n",
    "    X, Y = [],[]\n",
    "    for name in tqdm(words, desc = \"Building dataset\"):\n",
    "        context = [0] * block_size \n",
    "        #Loop through chars, add . to symbolize end token\n",
    "        for ch in name + '.':\n",
    "            index = S_to_I[ch]\n",
    "            X.append(context) #input context\n",
    "            Y.append(index) #output integer integer to next character\n",
    "            context = context[1:] + [index] #append context\n",
    "    X = torch.tensor(X, dtype=torch.long)\n",
    "    Y = torch.tensor(Y, dtype=torch.long)\n",
    "    print(f\"Shapes X: {X.shape}, Y: {Y.shape}\")\n",
    "    return X,Y\n",
    "\n",
    "\n",
    "#Split up data and build datasets for Training, Validation, and Testing\n",
    "random.seed(29)\n",
    "random.shuffle(word_set)\n",
    "idx1 = int(0.8 * len(word_set))\n",
    "idx2 = int(0.9 * len(word_set))\n",
    "\n",
    "train_x, train_y = build_dataset(word_set[:idx1]) #First 80 percent for Training\n",
    "dev_x, dev_y = build_dataset(word_set[idx1:idx2]) #\n",
    "test_x, test_y = build_dataset(word_set[idx2:]) #10 percent to test\n",
    "\n"
   ]
  },
  {
   "cell_type": "code",
   "execution_count": null,
   "id": "f54b0b81-c87a-482e-bb99-caee34121f2b",
   "metadata": {},
   "outputs": [],
   "source": []
  },
  {
   "attachments": {},
   "cell_type": "markdown",
   "id": "018f42be-53fe-435d-81b3-fcacfc272923",
   "metadata": {},
   "source": []
  },
  {
   "cell_type": "code",
   "execution_count": 35,
   "id": "0fa2154c-2f5e-4746-a26e-c060c5fafa22",
   "metadata": {},
   "outputs": [
    {
     "ename": "TypeError",
     "evalue": "zeros() received an invalid combination of arguments - got (tuple, generator=torch._C.Generator), but expected one of:\n * (tuple of ints size, *, tuple of names names, torch.dtype dtype, torch.layout layout, torch.device device, bool pin_memory, bool requires_grad)\n * (tuple of ints size, *, Tensor out, torch.dtype dtype, torch.layout layout, torch.device device, bool pin_memory, bool requires_grad)\n",
     "output_type": "error",
     "traceback": [
      "\u001b[0;31m---------------------------------------------------------------------------\u001b[0m",
      "\u001b[0;31mTypeError\u001b[0m                                 Traceback (most recent call last)",
      "Cell \u001b[0;32mIn[35], line 12\u001b[0m\n\u001b[1;32m     10\u001b[0m W1 \u001b[38;5;241m=\u001b[39m torch\u001b[38;5;241m.\u001b[39mrandn((n_embd \u001b[38;5;241m*\u001b[39m block_size, n_hidden), generator\u001b[38;5;241m=\u001b[39mg) \u001b[38;5;241m*\u001b[39m (\u001b[38;5;241m5\u001b[39m\u001b[38;5;241m/\u001b[39m\u001b[38;5;241m3\u001b[39m) \u001b[38;5;241m/\u001b[39m ((n_embd \u001b[38;5;241m*\u001b[39m block_size) \u001b[38;5;241m*\u001b[39m\u001b[38;5;241m*\u001b[39m \u001b[38;5;241m0.5\u001b[39m) \u001b[38;5;66;03m#concatenated embeddings into hidden\u001b[39;00m\n\u001b[1;32m     11\u001b[0m W2 \u001b[38;5;241m=\u001b[39m torch\u001b[38;5;241m.\u001b[39mrandn((n_hidden, vocab_size), generator\u001b[38;5;241m=\u001b[39mg) \u001b[38;5;241m*\u001b[39m \u001b[38;5;241m0.01\u001b[39m \u001b[38;5;66;03m#hidden layer to output logits for each character\u001b[39;00m\n\u001b[0;32m---> 12\u001b[0m b2 \u001b[38;5;241m=\u001b[39m torch\u001b[38;5;241m.\u001b[39mzeros((\u001b[38;5;241m1\u001b[39m, vocab_size), generator\u001b[38;5;241m=\u001b[39mg) \u001b[38;5;66;03m#one bias per character\u001b[39;00m\n\u001b[1;32m     15\u001b[0m \u001b[38;5;66;03m#Paramters for Batch Norm to normalize inputs\u001b[39;00m\n\u001b[1;32m     16\u001b[0m bnorm_gain \u001b[38;5;241m=\u001b[39m torch\u001b[38;5;241m.\u001b[39mones((\u001b[38;5;241m1\u001b[39m, n_hidden)) \u001b[38;5;66;03m#learnable scale factor gamma\u001b[39;00m\n",
      "\u001b[0;31mTypeError\u001b[0m: zeros() received an invalid combination of arguments - got (tuple, generator=torch._C.Generator), but expected one of:\n * (tuple of ints size, *, tuple of names names, torch.dtype dtype, torch.layout layout, torch.device device, bool pin_memory, bool requires_grad)\n * (tuple of ints size, *, Tensor out, torch.dtype dtype, torch.layout layout, torch.device device, bool pin_memory, bool requires_grad)\n"
     ]
    }
   ],
   "source": [
    "#MLP: Embedding Layer, Hidden Layer\n",
    "n_embd = 16 #embedding table vectors\n",
    "n_hidden = 200 #hidden layer nuerons\n",
    "g = torch.Generator().manual_seed(28482948204) \n",
    "\n",
    "\n",
    "#Parameters \n",
    "#Embedding Lookup Table C\n",
    "C = torch.randn((vocab_size, n_embd), generator=g) #each row is characters 10 dim vector\n",
    "W1 = torch.randn((n_embd * block_size, n_hidden), generator=g) * (5/3) / ((n_embd * block_size) ** 0.5) #concatenated embeddings into hidden\n",
    "W2 = torch.randn((n_hidden, vocab_size), generator=g) * 0.01 #hidden layer to output logits for each character\n",
    "b2 = torch.zeros((1, vocab_size), generator=g) #one bias per character\n",
    "\n",
    "\n",
    "#Paramters for Batch Norm to normalize inputs\n",
    "bnorm_gain = torch.ones((1, n_hidden)) #learnable scale factor gamma\n",
    "bnorm_bias = torch.zeros((1, n_hidden)) #learned shift factor beta\n",
    "running_mean = torch.zeros((1, n_hidden)) #running mean\n",
    "running_std = torch.zeros((1, n_hidden)) #running standard deviation\n",
    "\n",
    "network_params = [C, W1, W2, b2, bnorm_gain, bnorm_bias]\n",
    "print(f\"Number of Parameters in model {sum(p.nelement() for p in network_params)}\")\n",
    "#ensure that gradients are calculated for back prop\n",
    "for param in network_params:\n",
    "    param.requires_grad = True\n",
    "\n"
   ]
  },
  {
   "cell_type": "code",
   "execution_count": 21,
   "id": "49ab116b-58fd-4a64-ae88-f0b61623fd91",
   "metadata": {},
   "outputs": [
    {
     "data": {
      "text/plain": [
       "tensor([20,  1, 21,  ..., 14,  1,  0])"
      ]
     },
     "execution_count": 21,
     "metadata": {},
     "output_type": "execute_result"
    }
   ],
   "source": []
  },
  {
   "cell_type": "code",
   "execution_count": null,
   "id": "9d0d9476-8595-4c22-9293-aef4f1f3db6e",
   "metadata": {},
   "outputs": [],
   "source": []
  }
 ],
 "metadata": {
  "kernelspec": {
   "display_name": "Python 3 (ipykernel)",
   "language": "python",
   "name": "python3"
  },
  "language_info": {
   "codemirror_mode": {
    "name": "ipython",
    "version": 3
   },
   "file_extension": ".py",
   "mimetype": "text/x-python",
   "name": "python",
   "nbconvert_exporter": "python",
   "pygments_lexer": "ipython3",
   "version": "3.12.2"
  }
 },
 "nbformat": 4,
 "nbformat_minor": 5
}
